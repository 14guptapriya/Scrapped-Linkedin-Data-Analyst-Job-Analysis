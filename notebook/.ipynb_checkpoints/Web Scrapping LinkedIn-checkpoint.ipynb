{
 "cells": [
  {
   "cell_type": "markdown",
   "id": "1f666703-cc73-4c7b-ac41-f197294d24e2",
   "metadata": {},
   "source": [
    "## Import Modules"
   ]
  },
  {
   "cell_type": "code",
   "execution_count": 5,
   "id": "c4bfa50c-4280-4a42-958d-f364e74d0bfb",
   "metadata": {},
   "outputs": [],
   "source": [
    "\n",
    "import pandas as pd"
   ]
  },
  {
   "cell_type": "markdown",
   "id": "4662ab9d-a5c0-4d32-929b-dcfc304eb8ce",
   "metadata": {},
   "source": [
    "## Request page source from URL"
   ]
  },
  {
   "cell_type": "code",
   "execution_count": 3,
   "id": "f2e22797-dffe-4d6c-9e01-7996aca022ce",
   "metadata": {},
   "outputs": [
    {
     "name": "stdout",
     "output_type": "stream",
     "text": [
      "Defaulting to user installation because normal site-packages is not writeable\n",
      "Requirement already satisfied: selenium in c:\\users\\akash gupta\\appdata\\roaming\\python\\python311\\site-packages (4.25.0)\n",
      "Requirement already satisfied: urllib3<3,>=1.26 in c:\\users\\akash gupta\\appdata\\roaming\\python\\python311\\site-packages (from urllib3[socks]<3,>=1.26->selenium) (1.26.13)\n",
      "Requirement already satisfied: trio~=0.17 in c:\\users\\akash gupta\\appdata\\roaming\\python\\python311\\site-packages (from selenium) (0.26.2)\n",
      "Requirement already satisfied: trio-websocket~=0.9 in c:\\users\\akash gupta\\appdata\\roaming\\python\\python311\\site-packages (from selenium) (0.11.1)\n",
      "Requirement already satisfied: certifi>=2021.10.8 in c:\\users\\akash gupta\\appdata\\roaming\\python\\python311\\site-packages (from selenium) (2022.12.7)\n",
      "Requirement already satisfied: typing_extensions~=4.9 in c:\\users\\akash gupta\\appdata\\roaming\\python\\python311\\site-packages (from selenium) (4.12.2)\n",
      "Requirement already satisfied: websocket-client~=1.8 in c:\\users\\akash gupta\\appdata\\roaming\\python\\python311\\site-packages (from selenium) (1.8.0)\n",
      "Requirement already satisfied: attrs>=23.2.0 in c:\\users\\akash gupta\\appdata\\roaming\\python\\python311\\site-packages (from trio~=0.17->selenium) (24.2.0)\n",
      "Requirement already satisfied: sortedcontainers in c:\\users\\akash gupta\\appdata\\roaming\\python\\python311\\site-packages (from trio~=0.17->selenium) (2.4.0)\n",
      "Requirement already satisfied: idna in c:\\users\\akash gupta\\appdata\\roaming\\python\\python311\\site-packages (from trio~=0.17->selenium) (3.4)\n",
      "Requirement already satisfied: outcome in c:\\users\\akash gupta\\appdata\\roaming\\python\\python311\\site-packages (from trio~=0.17->selenium) (1.3.0.post0)\n",
      "Requirement already satisfied: sniffio>=1.3.0 in c:\\users\\akash gupta\\appdata\\roaming\\python\\python311\\site-packages (from trio~=0.17->selenium) (1.3.0)\n",
      "Requirement already satisfied: cffi>=1.14 in c:\\users\\akash gupta\\appdata\\roaming\\python\\python311\\site-packages (from trio~=0.17->selenium) (1.15.1)\n",
      "Requirement already satisfied: wsproto>=0.14 in c:\\users\\akash gupta\\appdata\\roaming\\python\\python311\\site-packages (from trio-websocket~=0.9->selenium) (1.2.0)\n",
      "Requirement already satisfied: PySocks!=1.5.7,<2.0,>=1.5.6 in c:\\users\\akash gupta\\appdata\\roaming\\python\\python311\\site-packages (from urllib3[socks]<3,>=1.26->selenium) (1.7.1)\n",
      "Requirement already satisfied: pycparser in c:\\users\\akash gupta\\appdata\\roaming\\python\\python311\\site-packages (from cffi>=1.14->trio~=0.17->selenium) (2.21)\n",
      "Requirement already satisfied: h11<1,>=0.9.0 in c:\\users\\akash gupta\\appdata\\roaming\\python\\python311\\site-packages (from wsproto>=0.14->trio-websocket~=0.9->selenium) (0.14.0)\n"
     ]
    }
   ],
   "source": [
    "!pip install selenium"
   ]
  },
  {
   "cell_type": "code",
   "execution_count": 6,
   "id": "9d4ff2e7-4571-422d-b7be-30f62b382f9b",
   "metadata": {},
   "outputs": [],
   "source": [
    "from selenium import webdriver\n",
    "import time\n",
    "import pandas as pd\n",
    "import os\n",
    "\n",
    "from selenium.webdriver.support.select import Select\n",
    "from selenium.webdriver.support.ui import WebDriverWait\n",
    "from selenium.webdriver.common.by import By\n",
    "from selenium.webdriver.support import expected_conditions as EC\n"
   ]
  },
  {
   "cell_type": "code",
   "execution_count": 5,
   "id": "e8e45ddb-9264-47c2-87ed-4ebeafd94ad0",
   "metadata": {},
   "outputs": [
    {
     "name": "stdout",
     "output_type": "stream",
     "text": [
      "Defaulting to user installation because normal site-packages is not writeable\n",
      "Requirement already satisfied: webdriver-manager in c:\\users\\akash gupta\\appdata\\roaming\\python\\python311\\site-packages (4.0.2)\n",
      "Requirement already satisfied: requests in c:\\users\\akash gupta\\appdata\\roaming\\python\\python311\\site-packages (from webdriver-manager) (2.31.0)\n",
      "Requirement already satisfied: python-dotenv in c:\\users\\akash gupta\\appdata\\roaming\\python\\python311\\site-packages (from webdriver-manager) (1.0.1)\n",
      "Requirement already satisfied: packaging in c:\\users\\akash gupta\\appdata\\roaming\\python\\python311\\site-packages (from webdriver-manager) (23.2)\n",
      "Requirement already satisfied: charset-normalizer<4,>=2 in c:\\users\\akash gupta\\appdata\\roaming\\python\\python311\\site-packages (from requests->webdriver-manager) (2.1.1)\n",
      "Requirement already satisfied: idna<4,>=2.5 in c:\\users\\akash gupta\\appdata\\roaming\\python\\python311\\site-packages (from requests->webdriver-manager) (3.4)\n",
      "Requirement already satisfied: urllib3<3,>=1.21.1 in c:\\users\\akash gupta\\appdata\\roaming\\python\\python311\\site-packages (from requests->webdriver-manager) (1.26.13)\n",
      "Requirement already satisfied: certifi>=2017.4.17 in c:\\users\\akash gupta\\appdata\\roaming\\python\\python311\\site-packages (from requests->webdriver-manager) (2022.12.7)\n"
     ]
    }
   ],
   "source": [
    "!pip install webdriver-manager"
   ]
  },
  {
   "cell_type": "code",
   "execution_count": 20,
   "id": "02a5c43a-1197-4b4d-b10a-6610ca8f0c41",
   "metadata": {},
   "outputs": [],
   "source": [
    "from selenium import webdriver\n",
    "from webdriver_manager.chrome import ChromeDriverManager\n",
    "from selenium.webdriver.chrome.service import Service\n",
    "\n",
    "service = Service(ChromeDriverManager().install())\n",
    "\n",
    "driver = webdriver.Chrome(service=service)\n",
    "url='https://www.linkedin.com/jobs/search/?currentJobId=3997507725&geoId=106967730&keywords=Marketing%20Data%20Analyst&location=Berlin%2C%20Berlin%2C%20Germany'\n",
    "driver.get(url)\n",
    "driver.implicitly_wait(10)\n",
    "\n",
    "\n"
   ]
  },
  {
   "cell_type": "code",
   "execution_count": 21,
   "id": "6907c75f-7c03-427b-b513-e6076bcf323d",
   "metadata": {},
   "outputs": [
    {
     "ename": "TimeoutException",
     "evalue": "Message: \n",
     "output_type": "error",
     "traceback": [
      "\u001b[1;31m---------------------------------------------------------------------------\u001b[0m",
      "\u001b[1;31mTimeoutException\u001b[0m                          Traceback (most recent call last)",
      "Cell \u001b[1;32mIn[21], line 1\u001b[0m\n\u001b[1;32m----> 1\u001b[0m \u001b[43mWebDriverWait\u001b[49m\u001b[43m(\u001b[49m\u001b[43mdriver\u001b[49m\u001b[43m,\u001b[49m\u001b[43m \u001b[49m\u001b[38;5;241;43m10\u001b[39;49m\u001b[43m)\u001b[49m\u001b[38;5;241;43m.\u001b[39;49m\u001b[43muntil\u001b[49m\u001b[43m(\u001b[49m\n\u001b[0;32m      2\u001b[0m \u001b[43m    \u001b[49m\u001b[43mEC\u001b[49m\u001b[38;5;241;43m.\u001b[39;49m\u001b[43mpresence_of_all_elements_located\u001b[49m\u001b[43m(\u001b[49m\u001b[43m(\u001b[49m\u001b[43mBy\u001b[49m\u001b[38;5;241;43m.\u001b[39;49m\u001b[43mCLASS_NAME\u001b[49m\u001b[43m,\u001b[49m\u001b[43m \u001b[49m\u001b[38;5;124;43m'\u001b[39;49m\u001b[38;5;124;43mbase-search-card\u001b[39;49m\u001b[38;5;124;43m'\u001b[39;49m\u001b[43m)\u001b[49m\u001b[43m)\u001b[49m\n\u001b[0;32m      3\u001b[0m \u001b[43m)\u001b[49m\n",
      "File \u001b[1;32m~\\AppData\\Roaming\\Python\\Python311\\site-packages\\selenium\\webdriver\\support\\wait.py:105\u001b[0m, in \u001b[0;36mWebDriverWait.until\u001b[1;34m(self, method, message)\u001b[0m\n\u001b[0;32m    103\u001b[0m     \u001b[38;5;28;01mif\u001b[39;00m time\u001b[38;5;241m.\u001b[39mmonotonic() \u001b[38;5;241m>\u001b[39m end_time:\n\u001b[0;32m    104\u001b[0m         \u001b[38;5;28;01mbreak\u001b[39;00m\n\u001b[1;32m--> 105\u001b[0m \u001b[38;5;28;01mraise\u001b[39;00m TimeoutException(message, screen, stacktrace)\n",
      "\u001b[1;31mTimeoutException\u001b[0m: Message: \n"
     ]
    }
   ],
   "source": [
    "\n",
    "WebDriverWait(driver, 10).until(\n",
    "    EC.presence_of_all_elements_located((By.CLASS_NAME, 'base-search-card'))\n",
    ")"
   ]
  },
  {
   "cell_type": "code",
   "execution_count": 14,
   "id": "459c581f-8fd4-46d6-bb46-2ca201b05087",
   "metadata": {},
   "outputs": [],
   "source": [
    "companyname=[]\n",
    "titlename=[]\n",
    "location=[]"
   ]
  },
  {
   "cell_type": "code",
   "execution_count": 15,
   "id": "95e118a1-ec88-4c51-9da4-72d56583a04f",
   "metadata": {},
   "outputs": [],
   "source": [
    "\n",
    "n = driver.find_elements(By.CLASS_NAME, 'base-search-card__subtitle')\n",
    "try:\n",
    "    for i in range(len(n)):\n",
    "        company=driver.find_elements(By.CLASS_NAME,'base-search-card__subtitle' )[i].text\n",
    "        title=driver.find_elements(By.CLASS_NAME,'base-search-card__title' )[i].text\n",
    "        loc=driver.find_elements(By.CLASS_NAME,'job-search-card__location' )[i].text\n",
    "        companyname.append(company)\n",
    "        titlename.append(title)\n",
    "        location.append(loc)\n",
    "    \n",
    "except IndexError:\n",
    "    print('no')\n",
    "\n"
   ]
  },
  {
   "cell_type": "code",
   "execution_count": 16,
   "id": "649c01ae-c018-4f1b-9aec-306db1fffd21",
   "metadata": {},
   "outputs": [
    {
     "name": "stdout",
     "output_type": "stream",
     "text": [
      "0 0 0\n"
     ]
    }
   ],
   "source": [
    "print(len(companyname),len(titlename),len(location))"
   ]
  },
  {
   "cell_type": "code",
   "execution_count": 36,
   "id": "42f16cde-f287-475e-9b61-7491ebd2df04",
   "metadata": {},
   "outputs": [],
   "source": [
    "titlefinal=pd.DataFrame(titlename,columns=['Title'])\n",
    "companyfinal=pd.DataFrame(companyname,columns=['Company'])\n",
    "locfinal=pd.DataFrame(location,columns=['Location'])"
   ]
  },
  {
   "cell_type": "code",
   "execution_count": 37,
   "id": "414ba675-fd33-4f45-aaaa-070562459e84",
   "metadata": {},
   "outputs": [
    {
     "data": {
      "text/html": [
       "<div>\n",
       "<style scoped>\n",
       "    .dataframe tbody tr th:only-of-type {\n",
       "        vertical-align: middle;\n",
       "    }\n",
       "\n",
       "    .dataframe tbody tr th {\n",
       "        vertical-align: top;\n",
       "    }\n",
       "\n",
       "    .dataframe thead th {\n",
       "        text-align: right;\n",
       "    }\n",
       "</style>\n",
       "<table border=\"1\" class=\"dataframe\">\n",
       "  <thead>\n",
       "    <tr style=\"text-align: right;\">\n",
       "      <th></th>\n",
       "      <th>Title</th>\n",
       "      <th>Company</th>\n",
       "      <th>Location</th>\n",
       "    </tr>\n",
       "  </thead>\n",
       "  <tbody>\n",
       "    <tr>\n",
       "      <th>0</th>\n",
       "      <td>Data Analyst (all genders)</td>\n",
       "      <td>Sunday Natural</td>\n",
       "      <td>Berlin, Berlin, Germany</td>\n",
       "    </tr>\n",
       "    <tr>\n",
       "      <th>1</th>\n",
       "      <td>Data Analyst / Decision Scientist, Digital Mar...</td>\n",
       "      <td>Vinted</td>\n",
       "      <td>Berlin, Berlin, Germany</td>\n",
       "    </tr>\n",
       "    <tr>\n",
       "      <th>2</th>\n",
       "      <td>Analytical Consultant (Fixed-Term Contract)</td>\n",
       "      <td>Google</td>\n",
       "      <td>Berlin, Berlin, Germany</td>\n",
       "    </tr>\n",
       "    <tr>\n",
       "      <th>3</th>\n",
       "      <td>Business Analyst (m/w/d), befristet bis 31.12....</td>\n",
       "      <td>Coca-Cola Europacific Partners</td>\n",
       "      <td>Berlin, Berlin, Germany</td>\n",
       "    </tr>\n",
       "    <tr>\n",
       "      <th>4</th>\n",
       "      <td>Junior Social Media Analyst (w/m/d)</td>\n",
       "      <td>TLGG Agency</td>\n",
       "      <td>Berlin, Berlin, Germany</td>\n",
       "    </tr>\n",
       "    <tr>\n",
       "      <th>...</th>\n",
       "      <td>...</td>\n",
       "      <td>...</td>\n",
       "      <td>...</td>\n",
       "    </tr>\n",
       "    <tr>\n",
       "      <th>135</th>\n",
       "      <td>Business Analyst (w/m/d) - Sales Operations</td>\n",
       "      <td>smava</td>\n",
       "      <td>Berlin, Germany</td>\n",
       "    </tr>\n",
       "    <tr>\n",
       "      <th>136</th>\n",
       "      <td>AMS Europe Business Analyst L2 Banking Core</td>\n",
       "      <td>Avaloq</td>\n",
       "      <td>Berlin, Berlin, Germany</td>\n",
       "    </tr>\n",
       "    <tr>\n",
       "      <th>137</th>\n",
       "      <td>Business Analyst / IT Requirements Engineer (a...</td>\n",
       "      <td>PŸUR | Tele Columbus</td>\n",
       "      <td>Berlin, Berlin, Germany</td>\n",
       "    </tr>\n",
       "    <tr>\n",
       "      <th>138</th>\n",
       "      <td>Business Analyst (m/f/d)</td>\n",
       "      <td>Inkitt</td>\n",
       "      <td>Berlin, Berlin, Germany</td>\n",
       "    </tr>\n",
       "    <tr>\n",
       "      <th>139</th>\n",
       "      <td>Business AnalystIn</td>\n",
       "      <td>lawpilots</td>\n",
       "      <td>Berlin, Berlin, Germany</td>\n",
       "    </tr>\n",
       "  </tbody>\n",
       "</table>\n",
       "<p>140 rows × 3 columns</p>\n",
       "</div>"
      ],
      "text/plain": [
       "                                                 Title  \\\n",
       "0                           Data Analyst (all genders)   \n",
       "1    Data Analyst / Decision Scientist, Digital Mar...   \n",
       "2          Analytical Consultant (Fixed-Term Contract)   \n",
       "3    Business Analyst (m/w/d), befristet bis 31.12....   \n",
       "4                  Junior Social Media Analyst (w/m/d)   \n",
       "..                                                 ...   \n",
       "135        Business Analyst (w/m/d) - Sales Operations   \n",
       "136        AMS Europe Business Analyst L2 Banking Core   \n",
       "137  Business Analyst / IT Requirements Engineer (a...   \n",
       "138                           Business Analyst (m/f/d)   \n",
       "139                                 Business AnalystIn   \n",
       "\n",
       "                            Company                 Location  \n",
       "0                    Sunday Natural  Berlin, Berlin, Germany  \n",
       "1                            Vinted  Berlin, Berlin, Germany  \n",
       "2                            Google  Berlin, Berlin, Germany  \n",
       "3    Coca-Cola Europacific Partners  Berlin, Berlin, Germany  \n",
       "4                       TLGG Agency  Berlin, Berlin, Germany  \n",
       "..                              ...                      ...  \n",
       "135                           smava          Berlin, Germany  \n",
       "136                          Avaloq  Berlin, Berlin, Germany  \n",
       "137            PŸUR | Tele Columbus  Berlin, Berlin, Germany  \n",
       "138                          Inkitt  Berlin, Berlin, Germany  \n",
       "139                       lawpilots  Berlin, Berlin, Germany  \n",
       "\n",
       "[140 rows x 3 columns]"
      ]
     },
     "execution_count": 37,
     "metadata": {},
     "output_type": "execute_result"
    }
   ],
   "source": [
    "\n",
    "final_df = pd.concat([titlefinal, companyfinal, locfinal], axis=1)\n",
    "final_df\n"
   ]
  },
  {
   "cell_type": "code",
   "execution_count": 38,
   "id": "e6940ea6-6706-4a6d-825f-26786ecf5782",
   "metadata": {},
   "outputs": [
    {
     "data": {
      "text/plain": [
       "Title       0\n",
       "Company     0\n",
       "Location    0\n",
       "dtype: int64"
      ]
     },
     "execution_count": 38,
     "metadata": {},
     "output_type": "execute_result"
    }
   ],
   "source": [
    "final_df.isnull().sum()"
   ]
  },
  {
   "cell_type": "code",
   "execution_count": 39,
   "id": "3645f1af-f67e-43dd-91a5-57365e09429c",
   "metadata": {},
   "outputs": [
    {
     "data": {
      "text/plain": [
       "Index(['Title', 'Company', 'Location'], dtype='object')"
      ]
     },
     "execution_count": 39,
     "metadata": {},
     "output_type": "execute_result"
    }
   ],
   "source": [
    "final_df.columns"
   ]
  },
  {
   "cell_type": "code",
   "execution_count": 17,
   "id": "fee7e3b5-9292-4847-80c3-29d16031d9c0",
   "metadata": {},
   "outputs": [
    {
     "ename": "NameError",
     "evalue": "name 'final_df' is not defined",
     "output_type": "error",
     "traceback": [
      "\u001b[1;31m---------------------------------------------------------------------------\u001b[0m",
      "\u001b[1;31mNameError\u001b[0m                                 Traceback (most recent call last)",
      "Cell \u001b[1;32mIn[17], line 1\u001b[0m\n\u001b[1;32m----> 1\u001b[0m \u001b[43mfinal_df\u001b[49m\u001b[38;5;241m.\u001b[39mto_csv(\u001b[38;5;124m'\u001b[39m\u001b[38;5;124mLinkedIn_scrape_data.csv\u001b[39m\u001b[38;5;124m'\u001b[39m,index\u001b[38;5;241m=\u001b[39m\u001b[38;5;28;01mFalse\u001b[39;00m)\n",
      "\u001b[1;31mNameError\u001b[0m: name 'final_df' is not defined"
     ]
    }
   ],
   "source": [
    "final_df.to_csv('LinkedIn_scrape_data.csv',index=False)"
   ]
  },
  {
   "cell_type": "markdown",
   "id": "82dd0fa1-6e3f-4d93-9f9d-57f3f0c167c7",
   "metadata": {},
   "source": [
    "## Import Data into SQL"
   ]
  },
  {
   "cell_type": "code",
   "execution_count": 16,
   "id": "0bfe071a-569a-4461-b0dc-7699150f60d7",
   "metadata": {},
   "outputs": [
    {
     "name": "stdout",
     "output_type": "stream",
     "text": [
      "Defaulting to user installation because normal site-packages is not writeable\n",
      "Requirement already satisfied: pymysql in c:\\users\\akash gupta\\appdata\\roaming\\python\\python311\\site-packages (1.1.1)\n"
     ]
    }
   ],
   "source": [
    "!pip install pymysql"
   ]
  },
  {
   "cell_type": "code",
   "execution_count": 9,
   "id": "f1f22a38-a693-46ec-8c88-8d1ac7740842",
   "metadata": {},
   "outputs": [],
   "source": [
    "import pymysql"
   ]
  },
  {
   "cell_type": "code",
   "execution_count": 2,
   "id": "1141d5b9-f7b6-4eed-86b7-d3ed6f97fa83",
   "metadata": {},
   "outputs": [
    {
     "name": "stdout",
     "output_type": "stream",
     "text": [
      "Defaulting to user installation because normal site-packages is not writeable\n",
      "Requirement already satisfied: python-dotenv in c:\\users\\akash gupta\\appdata\\roaming\\python\\python311\\site-packages (1.0.1)\n"
     ]
    },
    {
     "name": "stderr",
     "output_type": "stream",
     "text": [
      "\n",
      "[notice] A new release of pip is available: 24.2 -> 24.3.1\n",
      "[notice] To update, run: python.exe -m pip install --upgrade pip\n"
     ]
    }
   ],
   "source": [
    "!pip install python-dotenv"
   ]
  },
  {
   "cell_type": "code",
   "execution_count": 19,
   "id": "71183e65-2e11-431d-b508-bbb00a0861e3",
   "metadata": {},
   "outputs": [
    {
     "ename": "NameError",
     "evalue": "name 'final_df' is not defined",
     "output_type": "error",
     "traceback": [
      "\u001b[1;31m---------------------------------------------------------------------------\u001b[0m",
      "\u001b[1;31mNameError\u001b[0m                                 Traceback (most recent call last)",
      "Cell \u001b[1;32mIn[19], line 27\u001b[0m\n\u001b[0;32m     21\u001b[0m cursor\u001b[38;5;241m.\u001b[39mexecute(create_table_query)\n\u001b[0;32m     23\u001b[0m insert_query \u001b[38;5;241m=\u001b[39m \u001b[38;5;124m'''\u001b[39m\n\u001b[0;32m     24\u001b[0m \u001b[38;5;124m    INSERT INTO job_listings (Title, Company, Location) VALUES (\u001b[39m\u001b[38;5;132;01m%s\u001b[39;00m\u001b[38;5;124m, \u001b[39m\u001b[38;5;132;01m%s\u001b[39;00m\u001b[38;5;124m, \u001b[39m\u001b[38;5;132;01m%s\u001b[39;00m\u001b[38;5;124m);\u001b[39m\n\u001b[0;32m     25\u001b[0m \u001b[38;5;124m'''\u001b[39m\n\u001b[1;32m---> 27\u001b[0m \u001b[38;5;28;01mfor\u001b[39;00m index, job \u001b[38;5;129;01min\u001b[39;00m \u001b[43mfinal_df\u001b[49m\u001b[38;5;241m.\u001b[39miterrows():\n\u001b[0;32m     28\u001b[0m     cursor\u001b[38;5;241m.\u001b[39mexecute(insert_query, (job[\u001b[38;5;124m'\u001b[39m\u001b[38;5;124mTitle\u001b[39m\u001b[38;5;124m'\u001b[39m], job[\u001b[38;5;124m'\u001b[39m\u001b[38;5;124mCompany\u001b[39m\u001b[38;5;124m'\u001b[39m], job[\u001b[38;5;124m'\u001b[39m\u001b[38;5;124mLocation\u001b[39m\u001b[38;5;124m'\u001b[39m]))  \u001b[38;5;66;03m# Combined skills\u001b[39;00m\n\u001b[0;32m     31\u001b[0m connection\u001b[38;5;241m.\u001b[39mcommit()\n",
      "\u001b[1;31mNameError\u001b[0m: name 'final_df' is not defined"
     ]
    }
   ],
   "source": [
    "\n",
    "from dotenv import load_dotenv\n",
    "load_dotenv(dotenv_path='credentials.env')\n",
    "\n",
    "connection=pymysql.connect(\n",
    "    host=os.getenv('DB_HOST'),\n",
    "    user=os.getenv('DB_USER'),\n",
    "    password=os.getenv('DB_PASSWORD'),\n",
    "    database=os.getenv('DB_NAME')\n",
    ")\n",
    "\n",
    "create_table_query='''\n",
    "create table if not exists job_listings(\n",
    "id INT AUTO_INCREMENT PRIMARY KEY,\n",
    "Title varchar(255),\n",
    "Company varchar(255),\n",
    "Location varchar(255)\n",
    ");\n",
    "'''\n",
    "\n",
    "cursor=connection.cursor()\n",
    "cursor.execute(create_table_query)\n",
    "\n",
    "insert_query = '''\n",
    "    INSERT INTO job_listings (Title, Company, Location) VALUES (%s, %s, %s);\n",
    "'''\n",
    "\n",
    "for index, job in final_df.iterrows():\n",
    "    cursor.execute(insert_query, (job['Title'], job['Company'], job['Location']))  # Combined skills\n",
    "\n",
    "\n",
    "connection.commit()\n",
    "cursor.close()"
   ]
  },
  {
   "cell_type": "code",
   "execution_count": null,
   "id": "b0d289c4-f974-484d-b6f8-9213125d8f2c",
   "metadata": {},
   "outputs": [],
   "source": []
  }
 ],
 "metadata": {
  "kernelspec": {
   "display_name": "Python 3 (ipykernel)",
   "language": "python",
   "name": "python3"
  },
  "language_info": {
   "codemirror_mode": {
    "name": "ipython",
    "version": 3
   },
   "file_extension": ".py",
   "mimetype": "text/x-python",
   "name": "python",
   "nbconvert_exporter": "python",
   "pygments_lexer": "ipython3",
   "version": "3.11.1"
  }
 },
 "nbformat": 4,
 "nbformat_minor": 5
}
